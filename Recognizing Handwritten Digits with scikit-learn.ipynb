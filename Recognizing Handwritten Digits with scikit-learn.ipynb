{
 "cells": [
  {
   "cell_type": "markdown",
   "id": "93ac3f81",
   "metadata": {},
   "source": [
    "# Recognizing Handwritten Digits using scikit-learn "
   ]
  },
  {
   "cell_type": "markdown",
   "id": "998a9c86",
   "metadata": {},
   "source": [
    "## Problem Statement:\n",
    "\n",
    "### The Digitsdata set of scikit-learn library provides numerous data-sets that are useful for testing many problems of data analysis and prediction of the results. Some Scientist claims that it predicts the digit accurately 95% of the times. Perform data Analysis to acceptor reject this Hypothesis. "
   ]
  },
  {
   "cell_type": "code",
   "execution_count": 1,
   "id": "ead51211",
   "metadata": {},
   "outputs": [],
   "source": [
    "# Import Libraries \n",
    "import numpy as np \n",
    "from sklearn import datasets\n",
    "from sklearn.metrics import confusion_matrix, classification_report\n",
    "import matplotlib.pyplot as plt \n",
    "import seaborn as sns \n",
    "import warnings\n",
    "warnings.filterwarnings('ignore')"
   ]
  },
  {
   "cell_type": "code",
   "execution_count": 2,
   "id": "e2e60c6c",
   "metadata": {},
   "outputs": [],
   "source": [
    "# Importing dataset from sk-learn library\n",
    "from sklearn import datasets\n",
    "digits = datasets.load_digits()"
   ]
  },
  {
   "cell_type": "code",
   "execution_count": 3,
   "id": "b008fdaa",
   "metadata": {},
   "outputs": [
    {
     "name": "stdout",
     "output_type": "stream",
     "text": [
      ".. _digits_dataset:\n",
      "\n",
      "Optical recognition of handwritten digits dataset\n",
      "--------------------------------------------------\n",
      "\n",
      "**Data Set Characteristics:**\n",
      "\n",
      "    :Number of Instances: 1797\n",
      "    :Number of Attributes: 64\n",
      "    :Attribute Information: 8x8 image of integer pixels in the range 0..16.\n",
      "    :Missing Attribute Values: None\n",
      "    :Creator: E. Alpaydin (alpaydin '@' boun.edu.tr)\n",
      "    :Date: July; 1998\n",
      "\n",
      "This is a copy of the test set of the UCI ML hand-written digits datasets\n",
      "https://archive.ics.uci.edu/ml/datasets/Optical+Recognition+of+Handwritten+Digits\n",
      "\n",
      "The data set contains images of hand-written digits: 10 classes where\n",
      "each class refers to a digit.\n",
      "\n",
      "Preprocessing programs made available by NIST were used to extract\n",
      "normalized bitmaps of handwritten digits from a preprinted form. From a\n",
      "total of 43 people, 30 contributed to the training set and different 13\n",
      "to the test set. 32x32 bitmaps are divided into nonoverlapping blocks of\n",
      "4x4 and the number of on pixels are counted in each block. This generates\n",
      "an input matrix of 8x8 where each element is an integer in the range\n",
      "0..16. This reduces dimensionality and gives invariance to small\n",
      "distortions.\n",
      "\n",
      "For info on NIST preprocessing routines, see M. D. Garris, J. L. Blue, G.\n",
      "T. Candela, D. L. Dimmick, J. Geist, P. J. Grother, S. A. Janet, and C.\n",
      "L. Wilson, NIST Form-Based Handprint Recognition System, NISTIR 5469,\n",
      "1994.\n",
      "\n",
      ".. topic:: References\n",
      "\n",
      "  - C. Kaynak (1995) Methods of Combining Multiple Classifiers and Their\n",
      "    Applications to Handwritten Digit Recognition, MSc Thesis, Institute of\n",
      "    Graduate Studies in Science and Engineering, Bogazici University.\n",
      "  - E. Alpaydin, C. Kaynak (1998) Cascading Classifiers, Kybernetika.\n",
      "  - Ken Tang and Ponnuthurai N. Suganthan and Xi Yao and A. Kai Qin.\n",
      "    Linear dimensionalityreduction using relevance weighted LDA. School of\n",
      "    Electrical and Electronic Engineering Nanyang Technological University.\n",
      "    2005.\n",
      "  - Claudio Gentile. A New Approximate Maximal Margin Classification\n",
      "    Algorithm. NIPS. 2000.\n",
      "\n"
     ]
    }
   ],
   "source": [
    "# Description of dataset\n",
    "print(digits.DESCR)"
   ]
  },
  {
   "cell_type": "code",
   "execution_count": 4,
   "id": "6a58467b",
   "metadata": {},
   "outputs": [
    {
     "data": {
      "text/plain": [
       "array([0, 1, 2, ..., 8, 9, 8])"
      ]
     },
     "execution_count": 4,
     "metadata": {},
     "output_type": "execute_result"
    }
   ],
   "source": [
    "digits.target"
   ]
  },
  {
   "cell_type": "code",
   "execution_count": 5,
   "id": "8377fa1f",
   "metadata": {},
   "outputs": [
    {
     "name": "stdout",
     "output_type": "stream",
     "text": [
      "(1797, 64)\n"
     ]
    }
   ],
   "source": [
    "# shape of dataset\n",
    "print (digits.data.shape)"
   ]
  },
  {
   "cell_type": "code",
   "execution_count": 6,
   "id": "fc86ed60",
   "metadata": {},
   "outputs": [
    {
     "data": {
      "text/plain": [
       "array([[ 0.,  0.,  5., 13.,  9.,  1.,  0.,  0.],\n",
       "       [ 0.,  0., 13., 15., 10., 15.,  5.,  0.],\n",
       "       [ 0.,  3., 15.,  2.,  0., 11.,  8.,  0.],\n",
       "       [ 0.,  4., 12.,  0.,  0.,  8.,  8.,  0.],\n",
       "       [ 0.,  5.,  8.,  0.,  0.,  9.,  8.,  0.],\n",
       "       [ 0.,  4., 11.,  0.,  1., 12.,  7.,  0.],\n",
       "       [ 0.,  2., 14.,  5., 10., 12.,  0.,  0.],\n",
       "       [ 0.,  0.,  6., 13., 10.,  0.,  0.,  0.]])"
      ]
     },
     "execution_count": 6,
     "metadata": {},
     "output_type": "execute_result"
    }
   ],
   "source": [
    "digits.images[0]"
   ]
  },
  {
   "cell_type": "code",
   "execution_count": 7,
   "id": "45bf5536",
   "metadata": {},
   "outputs": [
    {
     "data": {
      "text/plain": [
       "<function matplotlib.pyplot.show(close=None, block=None)>"
      ]
     },
     "execution_count": 7,
     "metadata": {},
     "output_type": "execute_result"
    },
    {
     "data": {
      "image/png": "[encoded data removed]",
      "text/plain": [
       "<Figure size 432x288 with 1 Axes>"
      ]
     },
     "metadata": {
      "needs_background": "light"
     },
     "output_type": "display_data"
    }
   ],
   "source": [
    "# Ploting Single Digit \n",
    "plt.imshow(digits.images[0],cmap=plt.cm.Purples, interpolation='nearest')\n",
    "plt.title('Visualizing an array')\n",
    "plt.show"
   ]
  },
  {
   "cell_type": "markdown",
   "id": "e722e517",
   "metadata": {},
   "source": [
    "### To apply a classifier on this data, we need to flatten the images, turning each 2-D array of grayscale values from shape (8, 8) into shape (64,). Subsequently, the entire dataset will be of shape (n_samples, n_features), where n_samples is the number of images and n_features is the total number of pixels in each image."
   ]
  },
  {
   "cell_type": "code",
   "execution_count": 8,
   "id": "d1f63e7b",
   "metadata": {},
   "outputs": [],
   "source": [
    "# Flatten the Data\n",
    "samples = len(digits.images)\n",
    "data = digits.images.reshape((samples,-1))"
   ]
  },
  {
   "cell_type": "code",
   "execution_count": 9,
   "id": "db40ced2",
   "metadata": {},
   "outputs": [
    {
     "name": "stdout",
     "output_type": "stream",
     "text": [
      "[[ 0.  0.  5. ...  0.  0.  0.]\n",
      " [ 0.  0.  0. ... 10.  0.  0.]\n",
      " [ 0.  0.  0. ... 16.  9.  0.]\n",
      " ...\n",
      " [ 0.  0.  1. ...  6.  0.  0.]\n",
      " [ 0.  0.  2. ... 12.  0.  0.]\n",
      " [ 0.  0. 10. ... 12.  1.  0.]]\n"
     ]
    }
   ],
   "source": [
    "print(data.view())"
   ]
  },
  {
   "cell_type": "code",
   "execution_count": 10,
   "id": "0acbed84",
   "metadata": {},
   "outputs": [
    {
     "name": "stdout",
     "output_type": "stream",
     "text": [
      "1797\n"
     ]
    }
   ],
   "source": [
    "sample = len(digits.images)\n",
    "print(sample)"
   ]
  },
  {
   "cell_type": "code",
   "execution_count": 11,
   "id": "58f96344",
   "metadata": {},
   "outputs": [
    {
     "data": {
      "text/plain": [
       "1797"
      ]
     },
     "execution_count": 11,
     "metadata": {},
     "output_type": "execute_result"
    }
   ],
   "source": [
    "digits.target.size"
   ]
  },
  {
   "cell_type": "code",
   "execution_count": 12,
   "id": "53185a3b",
   "metadata": {
    "scrolled": true
   },
   "outputs": [
    {
     "data": {
      "text/plain": [
       "1797"
      ]
     },
     "execution_count": 12,
     "metadata": {},
     "output_type": "execute_result"
    }
   ],
   "source": [
    "len(data)"
   ]
  },
  {
   "cell_type": "markdown",
   "id": "7559afdc",
   "metadata": {},
   "source": [
    "\n",
    "# Training and Testing split "
   ]
  },
  {
   "cell_type": "code",
   "execution_count": 13,
   "id": "758ce7f1",
   "metadata": {},
   "outputs": [],
   "source": [
    "# spliting data in training and testing split\n",
    "from sklearn.model_selection import train_test_split\n",
    "x_train, x_test, y_train, y_test = train_test_split(data, digits.target,test_size=0.3,random_state=0)"
   ]
  },
  {
   "cell_type": "code",
   "execution_count": 14,
   "id": "26403adf",
   "metadata": {},
   "outputs": [
    {
     "name": "stdout",
     "output_type": "stream",
     "text": [
      "lenth of x_train is 1257\n",
      "length of x_test is 540\n"
     ]
    }
   ],
   "source": [
    "print(f'lenth of x_train is',len(x_train))\n",
    "print(f'length of x_test is',len(x_test))"
   ]
  },
  {
   "cell_type": "code",
   "execution_count": 15,
   "id": "5892cdca",
   "metadata": {},
   "outputs": [
    {
     "name": "stdout",
     "output_type": "stream",
     "text": [
      "[ 0.  0.  5. 13.  9.  1.  0.  0.  0.  0. 13. 15. 10. 15.  5.  0.  0.  3.\n",
      " 15.  2.  0. 11.  8.  0.  0.  4. 12.  0.  0.  8.  8.  0.  0.  5.  8.  0.\n",
      "  0.  9.  8.  0.  0.  4. 11.  0.  1. 12.  7.  0.  0.  2. 14.  5. 10. 12.\n",
      "  0.  0.  0.  0.  6. 13. 10.  0.  0.  0.]\n",
      "[0 1 2 3 4 5 6 7 8 9]\n"
     ]
    }
   ],
   "source": [
    "print(digits.data[0])\n",
    "print(digits.target[0:10])"
   ]
  },
  {
   "cell_type": "markdown",
   "id": "fe970522",
   "metadata": {},
   "source": [
    "## The digits dataset consists of 8x8 pixel images of digits. The images attribute of the dataset stores 8x8 arrays of grayscale values for each image.\n",
    "\n",
    "## Visualization for Digits From 0 to 9"
   ]
  },
  {
   "cell_type": "code",
   "execution_count": 16,
   "id": "3d66eb36",
   "metadata": {},
   "outputs": [
    {
     "data": {
      "image/png": "[encoded data removed]",
      "text/plain": [
       "<Figure size 1584x576 with 10 Axes>"
      ]
     },
     "metadata": {
      "needs_background": "light"
     },
     "output_type": "display_data"
    }
   ],
   "source": [
    "# Visualization of digits\n",
    "plt.figure(figsize=(22,8))\n",
    "plt.subplots_adjust(hspace=0.3)\n",
    "for index, (image, label) in enumerate(zip(digits.data[0:10], digits.target[0:10])):\n",
    "    plt.subplot(2, 5,index+1)\n",
    "    plt.imshow(np.reshape(image,(8,8)), cmap=plt.cm.binary)\n",
    "    plt.title(\"Digit %d\\n\" %label, fontsize =20)"
   ]
  },
  {
   "cell_type": "markdown",
   "id": "e5f15a73",
   "metadata": {},
   "source": [
    "## Prediction using:"
   ]
  },
  {
   "cell_type": "markdown",
   "id": "343c6ffb",
   "metadata": {},
   "source": [
    "## 1.SVC(Support Vector Classifier)"
   ]
  },
  {
   "cell_type": "code",
   "execution_count": 17,
   "id": "250d7d0b",
   "metadata": {},
   "outputs": [],
   "source": [
    "# creating the model\n",
    "from sklearn import svm\n",
    "svc = svm.SVC(gamma=0.001, C=100)"
   ]
  },
  {
   "cell_type": "code",
   "execution_count": 18,
   "id": "b9e1314d",
   "metadata": {},
   "outputs": [
    {
     "data": {
      "text/plain": [
       "SVC(C=100, gamma=0.001)"
      ]
     },
     "execution_count": 18,
     "metadata": {},
     "output_type": "execute_result"
    }
   ],
   "source": [
    "# fitting the svc model\n",
    "svc.fit(x_train, y_train)"
   ]
  },
  {
   "cell_type": "code",
   "execution_count": 19,
   "id": "57096552",
   "metadata": {},
   "outputs": [],
   "source": [
    "y_pred = svc.predict(x_test)"
   ]
  },
  {
   "cell_type": "code",
   "execution_count": 20,
   "id": "b405cfc2",
   "metadata": {},
   "outputs": [
    {
     "data": {
      "image/png": "[encoded data removed]",
      "text/plain": [
       "<Figure size 720x216 with 4 Axes>"
      ]
     },
     "metadata": {
      "needs_background": "light"
     },
     "output_type": "display_data"
    }
   ],
   "source": [
    "_, axes = plt.subplots(nrows=1, ncols=4, figsize=(10, 3))\n",
    "for ax, image, predict in zip(axes, x_test, y_pred):\n",
    "    ax.set_axis_off()\n",
    "    image = image.reshape(8, 8)\n",
    "    ax.imshow(image, cmap=plt.cm.gray_r, interpolation=\"nearest\")\n",
    "    ax.set_title(f\"Prediction: {predict}\")"
   ]
  },
  {
   "cell_type": "code",
   "execution_count": 21,
   "id": "f0a32fa0",
   "metadata": {},
   "outputs": [
    {
     "name": "stdout",
     "output_type": "stream",
     "text": [
      "Confusion matrix:\n",
      "[[45  0  0  0  0  0  0  0  0  0]\n",
      " [ 0 52  0  0  0  0  0  0  0  0]\n",
      " [ 0  0 52  0  0  0  0  1  0  0]\n",
      " [ 0  0  0 54  0  0  0  0  0  0]\n",
      " [ 0  0  0  0 48  0  0  0  0  0]\n",
      " [ 0  0  0  0  0 55  1  0  0  1]\n",
      " [ 0  0  0  0  0  0 60  0  0  0]\n",
      " [ 0  0  0  0  0  0  0 53  0  0]\n",
      " [ 0  1  0  0  0  0  0  0 60  0]\n",
      " [ 0  0  0  0  0  1  0  0  0 56]]\n",
      "\n",
      "\n",
      "Classification report:\n",
      "              precision    recall  f1-score   support\n",
      "\n",
      "           0       1.00      1.00      1.00        45\n",
      "           1       0.98      1.00      0.99        52\n",
      "           2       1.00      0.98      0.99        53\n",
      "           3       1.00      1.00      1.00        54\n",
      "           4       1.00      1.00      1.00        48\n",
      "           5       0.98      0.96      0.97        57\n",
      "           6       0.98      1.00      0.99        60\n",
      "           7       0.98      1.00      0.99        53\n",
      "           8       1.00      0.98      0.99        61\n",
      "           9       0.98      0.98      0.98        57\n",
      "\n",
      "    accuracy                           0.99       540\n",
      "   macro avg       0.99      0.99      0.99       540\n",
      "weighted avg       0.99      0.99      0.99       540\n",
      "\n"
     ]
    }
   ],
   "source": [
    "# Classification report and confusion matrix for SVC\n",
    "svc_confusion = confusion_matrix(y_test,y_pred)\n",
    "print(f'Confusion matrix:\\n{svc_confusion}\\n\\n')\n",
    "print(f'Classification report:\\n{classification_report(y_test, y_pred)}')"
   ]
  },
  {
   "cell_type": "code",
   "execution_count": 22,
   "id": "abb4ec47",
   "metadata": {},
   "outputs": [
    {
     "data": {
      "text/plain": [
       "Text(189.2400000000001, 0.5, 'True Label')"
      ]
     },
     "execution_count": 22,
     "metadata": {},
     "output_type": "execute_result"
    },
    {
     "data": {
      "image/png": "[encoded data removed]",
      "text/plain": [
       "<Figure size 720x432 with 2 Axes>"
      ]
     },
     "metadata": {
      "needs_background": "light"
     },
     "output_type": "display_data"
    }
   ],
   "source": [
    "plt.figure(figsize=(10,6))\n",
    "sns.heatmap(svc_confusion,square=True, annot= True, fmt =\"d\", cmap='nipy_spectral_r')\n",
    "plt.title('Confusion Matrix for SVC', fontsize = 20)\n",
    "plt.xlabel('Predicted ', fontsize = 15)\n",
    "plt.ylabel('True Label', fontsize = 15)"
   ]
  },
  {
   "cell_type": "code",
   "execution_count": 23,
   "id": "33d71356",
   "metadata": {},
   "outputs": [
    {
     "name": "stdout",
     "output_type": "stream",
     "text": [
      "Accuracy score is : 99.07407407407408\n"
     ]
    }
   ],
   "source": [
    "# SVC accuracy score\n",
    "svc_score = svc.score(x_test, y_test)\n",
    "print(f'Accuracy score is : {(svc_score*100)}')"
   ]
  },
  {
   "cell_type": "markdown",
   "id": "f7d6149e",
   "metadata": {},
   "source": [
    "###   Support Vector Classifier gives 99.07% accuracy"
   ]
  },
  {
   "cell_type": "markdown",
   "id": "277be0cf",
   "metadata": {},
   "source": [
    "## 2. KNN(K-Nearest Neighbors) Classifier"
   ]
  },
  {
   "cell_type": "code",
   "execution_count": 24,
   "id": "874bae19",
   "metadata": {},
   "outputs": [],
   "source": [
    "from sklearn.neighbors import KNeighborsClassifier\n",
    "knn = KNeighborsClassifier()"
   ]
  },
  {
   "cell_type": "code",
   "execution_count": 25,
   "id": "622d8068",
   "metadata": {},
   "outputs": [
    {
     "data": {
      "text/plain": [
       "KNeighborsClassifier()"
      ]
     },
     "execution_count": 25,
     "metadata": {},
     "output_type": "execute_result"
    }
   ],
   "source": [
    "# training the model\n",
    "knn.fit(x_train,y_train)"
   ]
  },
  {
   "cell_type": "code",
   "execution_count": 26,
   "id": "9d3dc702",
   "metadata": {},
   "outputs": [],
   "source": [
    "knn_y_pred = knn.predict(x_test)"
   ]
  },
  {
   "cell_type": "code",
   "execution_count": 27,
   "id": "ef126241",
   "metadata": {},
   "outputs": [
    {
     "name": "stdout",
     "output_type": "stream",
     "text": [
      "The predicted digits for the first 15 samples: [2 8 2 6 6 7 1 9 8 5 2 8 6 6 6]\n",
      "\n",
      "The expected digits for the first 15 samples: [2 8 2 6 6 7 1 9 8 5 2 8 6 6 6]\n",
      "\n"
     ]
    }
   ],
   "source": [
    "print(f'The predicted digits for the first 15 samples: {knn_y_pred[:15]}\\n')\n",
    "print(f'The expected digits for the first 15 samples: {y_test[:15]}\\n')"
   ]
  },
  {
   "cell_type": "code",
   "execution_count": 28,
   "id": "8d757033",
   "metadata": {},
   "outputs": [
    {
     "name": "stdout",
     "output_type": "stream",
     "text": [
      "Confusion matrix:\n",
      "[[45  0  0  0  0  0  0  0  0  0]\n",
      " [ 0 51  0  0  0  1  0  0  0  0]\n",
      " [ 0  0 52  0  0  0  0  1  0  0]\n",
      " [ 0  0  1 53  0  0  0  0  0  0]\n",
      " [ 0  0  0  0 47  0  0  1  0  0]\n",
      " [ 0  0  0  0  0 55  1  0  0  1]\n",
      " [ 0  0  0  0  0  0 60  0  0  0]\n",
      " [ 0  0  0  0  0  0  0 53  0  0]\n",
      " [ 0  1  0  1  0  0  1  0 58  0]\n",
      " [ 0  0  0  0  0  1  0  0  0 56]]\n",
      "\n",
      "\n",
      "Classification report:\n",
      "              precision    recall  f1-score   support\n",
      "\n",
      "           0       1.00      1.00      1.00        45\n",
      "           1       0.98      0.98      0.98        52\n",
      "           2       0.98      0.98      0.98        53\n",
      "           3       0.98      0.98      0.98        54\n",
      "           4       1.00      0.98      0.99        48\n",
      "           5       0.96      0.96      0.96        57\n",
      "           6       0.97      1.00      0.98        60\n",
      "           7       0.96      1.00      0.98        53\n",
      "           8       1.00      0.95      0.97        61\n",
      "           9       0.98      0.98      0.98        57\n",
      "\n",
      "    accuracy                           0.98       540\n",
      "   macro avg       0.98      0.98      0.98       540\n",
      "weighted avg       0.98      0.98      0.98       540\n",
      "\n"
     ]
    }
   ],
   "source": [
    "# Classification report and confusion matrix for KNN \n",
    "knn_confusion = confusion_matrix(y_test,knn_y_pred)\n",
    "print(f'Confusion matrix:\\n{knn_confusion}\\n\\n')\n",
    "print(f'Classification report:\\n{classification_report(y_test,knn_y_pred)}')"
   ]
  },
  {
   "cell_type": "code",
   "execution_count": 29,
   "id": "589ebfa9",
   "metadata": {},
   "outputs": [
    {
     "data": {
      "text/plain": [
       "Text(189.2400000000001, 0.5, 'True Label')"
      ]
     },
     "execution_count": 29,
     "metadata": {},
     "output_type": "execute_result"
    },
    {
     "data": {
      "image/png": "[encoded data removed]",
      "text/plain": [
       "<Figure size 720x432 with 2 Axes>"
      ]
     },
     "metadata": {
      "needs_background": "light"
     },
     "output_type": "display_data"
    }
   ],
   "source": [
    "plt.figure(figsize=(10,6))\n",
    "sns.heatmap(knn_confusion,square=True, annot= True, fmt =\"d\", cmap='nipy_spectral_r')\n",
    "plt.title('Confusion Matrix for KNN', fontsize = 20)\n",
    "plt.xlabel('Predicted Label', fontsize = 15)\n",
    "plt.ylabel('True Label', fontsize = 15)"
   ]
  },
  {
   "cell_type": "code",
   "execution_count": 30,
   "id": "4b13af3a",
   "metadata": {},
   "outputs": [
    {
     "name": "stdout",
     "output_type": "stream",
     "text": [
      "Accuracy score is : 98.14814814814815\n"
     ]
    }
   ],
   "source": [
    "knn_score = knn.score(x_test,y_test)\n",
    "print(f'Accuracy score is : {(knn_score*100)}')"
   ]
  },
  {
   "cell_type": "markdown",
   "id": "5c0cf1df",
   "metadata": {},
   "source": [
    "###   KNN Classifier gives 98.15% accuracy"
   ]
  },
  {
   "cell_type": "markdown",
   "id": "df2e6513",
   "metadata": {},
   "source": [
    "## 3. Logistic Regression Classifier"
   ]
  },
  {
   "cell_type": "code",
   "execution_count": 31,
   "id": "560492b7",
   "metadata": {},
   "outputs": [],
   "source": [
    "from sklearn.linear_model import LogisticRegression"
   ]
  },
  {
   "cell_type": "code",
   "execution_count": 32,
   "id": "7ab84e56",
   "metadata": {},
   "outputs": [],
   "source": [
    "lr = LogisticRegression()"
   ]
  },
  {
   "cell_type": "code",
   "execution_count": 33,
   "id": "5db1cfa5",
   "metadata": {},
   "outputs": [
    {
     "data": {
      "text/plain": [
       "LogisticRegression()"
      ]
     },
     "execution_count": 33,
     "metadata": {},
     "output_type": "execute_result"
    }
   ],
   "source": [
    "lr.fit(x_train,y_train)"
   ]
  },
  {
   "cell_type": "code",
   "execution_count": 34,
   "id": "9709b540",
   "metadata": {},
   "outputs": [],
   "source": [
    "lr_y_pred = lr.predict(x_test)"
   ]
  },
  {
   "cell_type": "code",
   "execution_count": 35,
   "id": "2089e3be",
   "metadata": {},
   "outputs": [
    {
     "name": "stdout",
     "output_type": "stream",
     "text": [
      "Confusion matrix:\n",
      "[[45  0  0  0  0  0  0  0  0  0]\n",
      " [ 0 49  0  0  0  0  0  0  2  1]\n",
      " [ 0  2 49  2  0  0  0  0  0  0]\n",
      " [ 0  0  0 52  0  0  0  0  1  1]\n",
      " [ 0  0  0  0 47  0  0  1  0  0]\n",
      " [ 0  0  0  0  0 55  0  0  0  2]\n",
      " [ 0  1  0  0  0  0 59  0  0  0]\n",
      " [ 0  0  0  1  1  0  0 51  0  0]\n",
      " [ 0  3  1  0  0  0  0  0 53  4]\n",
      " [ 0  0  0  0  0  1  0  0  1 55]]\n",
      "\n",
      "\n",
      "Classification report:\n",
      "              precision    recall  f1-score   support\n",
      "\n",
      "           0       1.00      1.00      1.00        45\n",
      "           1       0.89      0.94      0.92        52\n",
      "           2       0.98      0.92      0.95        53\n",
      "           3       0.95      0.96      0.95        54\n",
      "           4       0.98      0.98      0.98        48\n",
      "           5       0.98      0.96      0.97        57\n",
      "           6       1.00      0.98      0.99        60\n",
      "           7       0.98      0.96      0.97        53\n",
      "           8       0.93      0.87      0.90        61\n",
      "           9       0.87      0.96      0.92        57\n",
      "\n",
      "    accuracy                           0.95       540\n",
      "   macro avg       0.96      0.96      0.96       540\n",
      "weighted avg       0.96      0.95      0.95       540\n",
      "\n"
     ]
    }
   ],
   "source": [
    "# Classification report and confusion matrix for Logistic Regression\n",
    "lr_confusion = confusion_matrix(y_test,lr_y_pred)\n",
    "print(f'Confusion matrix:\\n{lr_confusion}\\n\\n')\n",
    "print(f'Classification report:\\n{classification_report(y_test,lr_y_pred)}')"
   ]
  },
  {
   "cell_type": "code",
   "execution_count": 36,
   "id": "b04b2503",
   "metadata": {},
   "outputs": [
    {
     "data": {
      "text/plain": [
       "Text(189.2400000000001, 0.5, 'True Label')"
      ]
     },
     "execution_count": 36,
     "metadata": {},
     "output_type": "execute_result"
    },
    {
     "data": {
      "image/png": "[encoded data removed]",
      "text/plain": [
       "<Figure size 720x432 with 2 Axes>"
      ]
     },
     "metadata": {
      "needs_background": "light"
     },
     "output_type": "display_data"
    }
   ],
   "source": [
    "plt.figure(figsize=(10,6))\n",
    "sns.heatmap(lr_confusion,square=True, annot= True, cmap='nipy_spectral_r')\n",
    "plt.title('Confusion Matrix for Logistic Regression', fontsize = 20)\n",
    "plt.xlabel('Predicted Label', fontsize = 15)\n",
    "plt.ylabel('True Label', fontsize = 15)"
   ]
  },
  {
   "cell_type": "code",
   "execution_count": 37,
   "id": "7fd38679",
   "metadata": {},
   "outputs": [
    {
     "name": "stdout",
     "output_type": "stream",
     "text": [
      "Accuracy score is : 95.37037037037037\n"
     ]
    }
   ],
   "source": [
    "lr_score = lr.score(x_test,y_test)\n",
    "print(f'Accuracy score is : {(lr_score*100)}')"
   ]
  },
  {
   "cell_type": "markdown",
   "id": "d1128f9f",
   "metadata": {},
   "source": [
    "### Logistic Regression Classifier gives 95.37% accuracy"
   ]
  },
  {
   "cell_type": "markdown",
   "id": "e1f582bc",
   "metadata": {},
   "source": [
    "## Random Forest Classifier"
   ]
  },
  {
   "cell_type": "code",
   "execution_count": 38,
   "id": "c865e3c8",
   "metadata": {},
   "outputs": [],
   "source": [
    "from sklearn.ensemble import RandomForestClassifier\n",
    "rf = RandomForestClassifier()"
   ]
  },
  {
   "cell_type": "code",
   "execution_count": 39,
   "id": "577d9dc7",
   "metadata": {},
   "outputs": [
    {
     "data": {
      "text/plain": [
       "RandomForestClassifier()"
      ]
     },
     "execution_count": 39,
     "metadata": {},
     "output_type": "execute_result"
    }
   ],
   "source": [
    "rf.fit(x_train,y_train)"
   ]
  },
  {
   "cell_type": "code",
   "execution_count": 40,
   "id": "1810cf5f",
   "metadata": {},
   "outputs": [],
   "source": [
    "rf_y_pred = rf.predict(x_test)"
   ]
  },
  {
   "cell_type": "code",
   "execution_count": 41,
   "id": "55650523",
   "metadata": {},
   "outputs": [
    {
     "name": "stdout",
     "output_type": "stream",
     "text": [
      "Confusion matrix:\n",
      "[[45  0  0  0  0  0  0  0  0  0]\n",
      " [ 0 52  0  0  0  0  0  0  0  0]\n",
      " [ 1  1 50  1  0  0  0  0  0  0]\n",
      " [ 0  0  0 53  0  0  0  0  1  0]\n",
      " [ 0  0  0  0 47  0  0  1  0  0]\n",
      " [ 0  0  0  0  0 55  1  0  0  1]\n",
      " [ 0  0  0  0  0  0 60  0  0  0]\n",
      " [ 0  0  0  0  0  0  0 53  0  0]\n",
      " [ 0  2  0  1  0  0  0  0 58  0]\n",
      " [ 0  0  0  0  0  2  0  0  0 55]]\n",
      "\n",
      "\n",
      "Classification report:\n",
      "              precision    recall  f1-score   support\n",
      "\n",
      "           0       0.98      1.00      0.99        45\n",
      "           1       0.95      1.00      0.97        52\n",
      "           2       1.00      0.94      0.97        53\n",
      "           3       0.96      0.98      0.97        54\n",
      "           4       1.00      0.98      0.99        48\n",
      "           5       0.96      0.96      0.96        57\n",
      "           6       0.98      1.00      0.99        60\n",
      "           7       0.98      1.00      0.99        53\n",
      "           8       0.98      0.95      0.97        61\n",
      "           9       0.98      0.96      0.97        57\n",
      "\n",
      "    accuracy                           0.98       540\n",
      "   macro avg       0.98      0.98      0.98       540\n",
      "weighted avg       0.98      0.98      0.98       540\n",
      "\n"
     ]
    }
   ],
   "source": [
    "# Classification report and confusion matrix for Random Forest \n",
    "rf_confusion = confusion_matrix(y_test,rf_y_pred)\n",
    "print(f'Confusion matrix:\\n{rf_confusion}\\n\\n')\n",
    "print(f'Classification report:\\n{classification_report(y_test,rf_y_pred)}')"
   ]
  },
  {
   "cell_type": "code",
   "execution_count": 42,
   "id": "8f905943",
   "metadata": {},
   "outputs": [
    {
     "data": {
      "text/plain": [
       "Text(189.2400000000001, 0.5, 'True Label')"
      ]
     },
     "execution_count": 42,
     "metadata": {},
     "output_type": "execute_result"
    },
    {
     "data": {
      "image/png": "[encoded data removed]",
      "text/plain": [
       "<Figure size 720x432 with 2 Axes>"
      ]
     },
     "metadata": {
      "needs_background": "light"
     },
     "output_type": "display_data"
    }
   ],
   "source": [
    "plt.figure(figsize=(10,6))\n",
    "sns.heatmap(rf_confusion,square=True, annot= True, fmt =\"d\", cmap='nipy_spectral_r')\n",
    "plt.title('Confusion Matrix for Random Forest', fontsize = 20)\n",
    "plt.xlabel('Predicted Label', fontsize = 15)\n",
    "plt.ylabel('True Label', fontsize = 15)"
   ]
  },
  {
   "cell_type": "code",
   "execution_count": 43,
   "id": "0e484f70",
   "metadata": {},
   "outputs": [
    {
     "name": "stdout",
     "output_type": "stream",
     "text": [
      "Accuracy score is : 97.77777777777777\n"
     ]
    }
   ],
   "source": [
    "rf_score = rf.score(x_test,y_test)\n",
    "print(f'Accuracy score is : {(rf_score*100)}')"
   ]
  },
  {
   "cell_type": "markdown",
   "id": "3fb9502b",
   "metadata": {},
   "source": [
    "### Random Forest Classifier gives 97.77% accuracy"
   ]
  },
  {
   "cell_type": "markdown",
   "id": "55ad9370",
   "metadata": {},
   "source": [
    "### Some Scientist claims that it predicts the digit accurately 95% of the times. So we need to find mean of all 4 classifier to justify this hypothesis"
   ]
  },
  {
   "cell_type": "code",
   "execution_count": 44,
   "id": "b19bee63",
   "metadata": {},
   "outputs": [
    {
     "name": "stdout",
     "output_type": "stream",
     "text": [
      "Mean accuracy of all the classifier is: 97.59\n"
     ]
    }
   ],
   "source": [
    "# calculating Average for all 4 classifier\n",
    "Accuracy_avg = (svc_score+knn_score+lr_score+rf_score)/4\n",
    "print(f'Mean accuracy of all the classifier is:',round(Accuracy_avg,4)*100)"
   ]
  },
  {
   "cell_type": "markdown",
   "id": "fbdab706",
   "metadata": {},
   "source": [
    "### Our classifiers gives mean accuracy of 97.5%"
   ]
  },
  {
   "cell_type": "markdown",
   "id": "468059b2",
   "metadata": {},
   "source": [
    "# Conclusion:\n",
    "\n",
    "## This dataset predicts the digits 97.5% of the time, So we can conclude that the results are consistent with the null Hypothesis."
   ]
  },
  {
   "cell_type": "code",
   "execution_count": null,
   "id": "23578ff5",
   "metadata": {},
   "outputs": [],
   "source": []
  }
 ],
 "metadata": {
  "kernelspec": {
   "display_name": "Python 3 (ipykernel)",
   "language": "python",
   "name": "python3"
  },
  "language_info": {
   "codemirror_mode": {
    "name": "ipython",
    "version": 3
   },
   "file_extension": ".py",
   "mimetype": "text/x-python",
   "name": "python",
   "nbconvert_exporter": "python",
   "pygments_lexer": "ipython3",
   "version": "3.9.12"
  }
 },
 "nbformat": 4,
 "nbformat_minor": 5
}
